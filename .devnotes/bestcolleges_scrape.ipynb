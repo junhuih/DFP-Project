{
 "cells": [
  {
   "cell_type": "markdown",
   "metadata": {},
   "source": [
    "# for scrapping https://www.bestcolleges.com/careers/"
   ]
  },
  {
   "cell_type": "code",
   "execution_count": 86,
   "metadata": {},
   "outputs": [],
   "source": [
    "import pandas as pd\n",
    "from selenium import webdriver\n",
    "from selenium.webdriver.common.keys import Keys\n",
    "import numpy as np"
   ]
  },
  {
   "cell_type": "code",
   "execution_count": 31,
   "metadata": {},
   "outputs": [],
   "source": [
    "# sanity\n",
    "driver = webdriver.Edge(executable_path=\"C:\\\\Users\\\\Yashash Gaurav\\\\Downloads\\\\edgedriver_win64 (2)\\\\msedgedriver.exe\")\n",
    "\n"
   ]
  },
  {
   "cell_type": "code",
   "execution_count": 32,
   "metadata": {},
   "outputs": [],
   "source": [
    "\n",
    "# get all career links\n",
    "driver.get(\"https://www.bestcolleges.com/careers/\")\n",
    "career_anchors = driver.find_elements_by_css_selector(\"div.swiper-slide a[data-wpel-link='internal']\")\n",
    "# loop through urls collected and collect data\n"
   ]
  },
  {
   "cell_type": "code",
   "execution_count": 35,
   "metadata": {},
   "outputs": [
    {
     "ename": "StaleElementReferenceException",
     "evalue": "Message: stale element reference: element is not attached to the page document\n  (Session info: MicrosoftEdge=94.0.992.38)\n",
     "output_type": "error",
     "traceback": [
      "\u001b[1;31m---------------------------------------------------------------------------\u001b[0m",
      "\u001b[1;31mStaleElementReferenceException\u001b[0m            Traceback (most recent call last)",
      "\u001b[1;32mC:\\Users\\YASHAS~1\\AppData\\Local\\Temp/ipykernel_22232/3733722684.py\u001b[0m in \u001b[0;36m<module>\u001b[1;34m\u001b[0m\n\u001b[0;32m      1\u001b[0m \u001b[0mcareer_data_list\u001b[0m \u001b[1;33m=\u001b[0m \u001b[1;33m[\u001b[0m\u001b[1;33m]\u001b[0m\u001b[1;33m\u001b[0m\u001b[1;33m\u001b[0m\u001b[0m\n\u001b[0;32m      2\u001b[0m \u001b[1;32mfor\u001b[0m \u001b[0mcareer\u001b[0m \u001b[1;32min\u001b[0m \u001b[0mcareer_anchors\u001b[0m\u001b[1;33m:\u001b[0m\u001b[1;33m\u001b[0m\u001b[1;33m\u001b[0m\u001b[0m\n\u001b[1;32m----> 3\u001b[1;33m     \u001b[0mdriver\u001b[0m\u001b[1;33m.\u001b[0m\u001b[0mget\u001b[0m\u001b[1;33m(\u001b[0m\u001b[0mcareer\u001b[0m\u001b[1;33m.\u001b[0m\u001b[0mget_attribute\u001b[0m\u001b[1;33m(\u001b[0m\u001b[1;34m'href'\u001b[0m\u001b[1;33m)\u001b[0m\u001b[1;33m)\u001b[0m\u001b[1;33m\u001b[0m\u001b[1;33m\u001b[0m\u001b[0m\n\u001b[0m\u001b[0;32m      4\u001b[0m     \u001b[0mcareer_name\u001b[0m \u001b[1;33m=\u001b[0m \u001b[0mdriver\u001b[0m\u001b[1;33m.\u001b[0m\u001b[0mfind_element_by_css_selector\u001b[0m\u001b[1;33m(\u001b[0m\u001b[1;34m'section.hero h1'\u001b[0m\u001b[1;33m)\u001b[0m\u001b[1;33m.\u001b[0m\u001b[0mtext\u001b[0m\u001b[1;33m\u001b[0m\u001b[1;33m\u001b[0m\u001b[0m\n\u001b[0;32m      5\u001b[0m     \u001b[0mcareer_info\u001b[0m \u001b[1;33m=\u001b[0m \u001b[0mdriver\u001b[0m\u001b[1;33m.\u001b[0m\u001b[0mfind_element_by_css_selector\u001b[0m\u001b[1;33m(\u001b[0m\u001b[1;34m'section.container.content>p:first-child'\u001b[0m\u001b[1;33m)\u001b[0m\u001b[1;33m.\u001b[0m\u001b[0mtext\u001b[0m\u001b[1;33m\u001b[0m\u001b[1;33m\u001b[0m\u001b[0m\n",
      "\u001b[1;32m~\\miniconda3\\envs\\dfp\\lib\\site-packages\\selenium\\webdriver\\remote\\webelement.py\u001b[0m in \u001b[0;36mget_attribute\u001b[1;34m(self, name)\u001b[0m\n\u001b[0;32m    137\u001b[0m         \u001b[0mattributeValue\u001b[0m \u001b[1;33m=\u001b[0m \u001b[1;34m''\u001b[0m\u001b[1;33m\u001b[0m\u001b[1;33m\u001b[0m\u001b[0m\n\u001b[0;32m    138\u001b[0m         \u001b[1;32mif\u001b[0m \u001b[0mself\u001b[0m\u001b[1;33m.\u001b[0m\u001b[0m_w3c\u001b[0m\u001b[1;33m:\u001b[0m\u001b[1;33m\u001b[0m\u001b[1;33m\u001b[0m\u001b[0m\n\u001b[1;32m--> 139\u001b[1;33m             attributeValue = self.parent.execute_script(\n\u001b[0m\u001b[0;32m    140\u001b[0m                 \u001b[1;34m\"return (%s).apply(null, arguments);\"\u001b[0m \u001b[1;33m%\u001b[0m \u001b[0mgetAttribute_js\u001b[0m\u001b[1;33m,\u001b[0m\u001b[1;33m\u001b[0m\u001b[1;33m\u001b[0m\u001b[0m\n\u001b[0;32m    141\u001b[0m                 self, name)\n",
      "\u001b[1;32m~\\miniconda3\\envs\\dfp\\lib\\site-packages\\selenium\\webdriver\\remote\\webdriver.py\u001b[0m in \u001b[0;36mexecute_script\u001b[1;34m(self, script, *args)\u001b[0m\n\u001b[0;32m    632\u001b[0m             \u001b[0mcommand\u001b[0m \u001b[1;33m=\u001b[0m \u001b[0mCommand\u001b[0m\u001b[1;33m.\u001b[0m\u001b[0mEXECUTE_SCRIPT\u001b[0m\u001b[1;33m\u001b[0m\u001b[1;33m\u001b[0m\u001b[0m\n\u001b[0;32m    633\u001b[0m \u001b[1;33m\u001b[0m\u001b[0m\n\u001b[1;32m--> 634\u001b[1;33m         return self.execute(command, {\n\u001b[0m\u001b[0;32m    635\u001b[0m             \u001b[1;34m'script'\u001b[0m\u001b[1;33m:\u001b[0m \u001b[0mscript\u001b[0m\u001b[1;33m,\u001b[0m\u001b[1;33m\u001b[0m\u001b[1;33m\u001b[0m\u001b[0m\n\u001b[0;32m    636\u001b[0m             'args': converted_args})['value']\n",
      "\u001b[1;32m~\\miniconda3\\envs\\dfp\\lib\\site-packages\\selenium\\webdriver\\remote\\webdriver.py\u001b[0m in \u001b[0;36mexecute\u001b[1;34m(self, driver_command, params)\u001b[0m\n\u001b[0;32m    319\u001b[0m         \u001b[0mresponse\u001b[0m \u001b[1;33m=\u001b[0m \u001b[0mself\u001b[0m\u001b[1;33m.\u001b[0m\u001b[0mcommand_executor\u001b[0m\u001b[1;33m.\u001b[0m\u001b[0mexecute\u001b[0m\u001b[1;33m(\u001b[0m\u001b[0mdriver_command\u001b[0m\u001b[1;33m,\u001b[0m \u001b[0mparams\u001b[0m\u001b[1;33m)\u001b[0m\u001b[1;33m\u001b[0m\u001b[1;33m\u001b[0m\u001b[0m\n\u001b[0;32m    320\u001b[0m         \u001b[1;32mif\u001b[0m \u001b[0mresponse\u001b[0m\u001b[1;33m:\u001b[0m\u001b[1;33m\u001b[0m\u001b[1;33m\u001b[0m\u001b[0m\n\u001b[1;32m--> 321\u001b[1;33m             \u001b[0mself\u001b[0m\u001b[1;33m.\u001b[0m\u001b[0merror_handler\u001b[0m\u001b[1;33m.\u001b[0m\u001b[0mcheck_response\u001b[0m\u001b[1;33m(\u001b[0m\u001b[0mresponse\u001b[0m\u001b[1;33m)\u001b[0m\u001b[1;33m\u001b[0m\u001b[1;33m\u001b[0m\u001b[0m\n\u001b[0m\u001b[0;32m    322\u001b[0m             response['value'] = self._unwrap_value(\n\u001b[0;32m    323\u001b[0m                 response.get('value', None))\n",
      "\u001b[1;32m~\\miniconda3\\envs\\dfp\\lib\\site-packages\\selenium\\webdriver\\remote\\errorhandler.py\u001b[0m in \u001b[0;36mcheck_response\u001b[1;34m(self, response)\u001b[0m\n\u001b[0;32m    240\u001b[0m                 \u001b[0malert_text\u001b[0m \u001b[1;33m=\u001b[0m \u001b[0mvalue\u001b[0m\u001b[1;33m[\u001b[0m\u001b[1;34m'alert'\u001b[0m\u001b[1;33m]\u001b[0m\u001b[1;33m.\u001b[0m\u001b[0mget\u001b[0m\u001b[1;33m(\u001b[0m\u001b[1;34m'text'\u001b[0m\u001b[1;33m)\u001b[0m\u001b[1;33m\u001b[0m\u001b[1;33m\u001b[0m\u001b[0m\n\u001b[0;32m    241\u001b[0m             \u001b[1;32mraise\u001b[0m \u001b[0mexception_class\u001b[0m\u001b[1;33m(\u001b[0m\u001b[0mmessage\u001b[0m\u001b[1;33m,\u001b[0m \u001b[0mscreen\u001b[0m\u001b[1;33m,\u001b[0m \u001b[0mstacktrace\u001b[0m\u001b[1;33m,\u001b[0m \u001b[0malert_text\u001b[0m\u001b[1;33m)\u001b[0m\u001b[1;33m\u001b[0m\u001b[1;33m\u001b[0m\u001b[0m\n\u001b[1;32m--> 242\u001b[1;33m         \u001b[1;32mraise\u001b[0m \u001b[0mexception_class\u001b[0m\u001b[1;33m(\u001b[0m\u001b[0mmessage\u001b[0m\u001b[1;33m,\u001b[0m \u001b[0mscreen\u001b[0m\u001b[1;33m,\u001b[0m \u001b[0mstacktrace\u001b[0m\u001b[1;33m)\u001b[0m\u001b[1;33m\u001b[0m\u001b[1;33m\u001b[0m\u001b[0m\n\u001b[0m\u001b[0;32m    243\u001b[0m \u001b[1;33m\u001b[0m\u001b[0m\n\u001b[0;32m    244\u001b[0m     \u001b[1;32mdef\u001b[0m \u001b[0m_value_or_default\u001b[0m\u001b[1;33m(\u001b[0m\u001b[0mself\u001b[0m\u001b[1;33m,\u001b[0m \u001b[0mobj\u001b[0m\u001b[1;33m,\u001b[0m \u001b[0mkey\u001b[0m\u001b[1;33m,\u001b[0m \u001b[0mdefault\u001b[0m\u001b[1;33m)\u001b[0m\u001b[1;33m:\u001b[0m\u001b[1;33m\u001b[0m\u001b[1;33m\u001b[0m\u001b[0m\n",
      "\u001b[1;31mStaleElementReferenceException\u001b[0m: Message: stale element reference: element is not attached to the page document\n  (Session info: MicrosoftEdge=94.0.992.38)\n"
     ]
    }
   ],
   "source": [
    "career_data_list = []\n",
    "# for career in career_anchors:\n",
    "career = career_anchors[0]\n",
    "driver.get(career.get_attribute('href'))\n",
    "career_name = driver.find_element_by_css_selector('section.hero h1').text\n",
    "career_info = driver.find_element_by_css_selector('section.container.content>p:first-child').text\n",
    "why_career = driver.find_element_by_css_selector('a#why-pursue+p').text\n",
    "career_path_elements = driver.find_elements_by_css_selector('div#slot h3.title').text\n",
    "career_paths = ','.join([element.text for element in career_path_elements])\n",
    "how_to_start = driver.find_element_by_css_selector('div#advancing-your-career+p').text\n",
    "career_data_list.append({\n",
    "    \"career_name\": career_name,\n",
    "    \"career_info\": career_info,\n",
    "    \"why_career\": why_career,\n",
    "    \"career_paths\": career_paths,\n",
    "    \"how_to_start\": how_to_start\n",
    "})\n",
    "\n",
    "career_data = pd.DataFrame(career_data_list, columns=['career_name', 'career_info', 'why_career', 'career_paths', 'how_to_start'])\n",
    "\n",
    "career_data.head()\n",
    "\n",
    "# print(all_career_anchors[0].text)\n",
    "# print(all_career_anchors[0].tag_name)\n",
    "# print(all_career_anchors[0].parent)\n",
    "# print(all_career_anchors[0].location)\n",
    "# type(all_career_anchors[0])"
   ]
  },
  {
   "cell_type": "code",
   "execution_count": null,
   "metadata": {},
   "outputs": [],
   "source": [
    "# click ton a-d\n",
    "# all_career_section.find\n",
    "# driver.find_element_by_class_name(\"nav-button\")\n",
    "# collect all urls  "
   ]
  },
  {
   "cell_type": "code",
   "execution_count": null,
   "metadata": {},
   "outputs": [],
   "source": [
    "# click on f-m\n",
    "# collect all urls\n",
    "\n"
   ]
  },
  {
   "cell_type": "code",
   "execution_count": null,
   "metadata": {},
   "outputs": [],
   "source": [
    "# click on n-z\n",
    "# collect urls\n"
   ]
  },
  {
   "cell_type": "code",
   "execution_count": null,
   "metadata": {},
   "outputs": [],
   "source": [
    "driver.close()"
   ]
  },
  {
   "cell_type": "code",
   "execution_count": 2,
   "metadata": {},
   "outputs": [],
   "source": []
  },
  {
   "cell_type": "code",
   "execution_count": 45,
   "metadata": {},
   "outputs": [],
   "source": [
    "bestcolleges_data_path = \".output\\\\best_colleges_careers.csv\"\n",
    "\n",
    "bestcolleges_data = pd.read_csv(bestcolleges_data_path)"
   ]
  },
  {
   "cell_type": "code",
   "execution_count": 47,
   "metadata": {},
   "outputs": [
    {
     "name": "stdout",
     "output_type": "stream",
     "text": [
      "We are ready to guide you on the following careers : \n",
      "1. Accounting Careers\n",
      "2. Addiction and Recovery Careers\n",
      "3. Aeronautics Careers\n",
      "4. Animation Careers\n",
      "5. Architecture Careers\n",
      "6. Art History Careers\n",
      "7. Art and Design Careers\n",
      "8. Behavioral Psychology Careers\n",
      "9. Biotechnology Careers\n",
      "10. Business Administration Careers\n",
      "11. Business Careers\n",
      "12. Business Intelligence Careers\n",
      "13. Business Management Careers\n",
      "14. Careers for Biology Majors\n",
      "15. Careers for History Majors\n",
      "16. Careers for Liberal Arts Majors\n",
      "17. Careers for Math Majors\n",
      "18. Careers in Healthcare\n",
      "19. Chemistry Careers\n",
      "20. Child Development Careers\n",
      "21. Child and Adolescent Psychology Careers\n",
      "22. Civil Engineering Careers\n",
      "23. Communications Careers\n",
      "24. Computer Programming Careers\n",
      "25. Computer Science Careers\n",
      "26. Counseling Careers\n",
      "27. Criminal Justice Careers\n",
      "28. Criminology Careers\n",
      "29. Data Science Careers\n",
      "30. Data Visualization Careers\n",
      "31. Database Management Careers\n",
      "32. Dental Careers\n",
      "33. Drafting Careers\n",
      "34. Fashion Careers\n",
      "35. Film Careers\n",
      "36. Finance Careers\n",
      "37. Fire Science Careers\n",
      "38. Forensic Science Careers\n",
      "39. Game Design Careers\n",
      "40. Geography Careers\n",
      "41. Gerontology Careers\n",
      "42. Graphic Design Careers\n",
      "43. Health Informatics Careers\n",
      "44. Health Services Careers\n",
      "45. Higher Education Careers\n",
      "46. Homeland Security Careers\n",
      "47. Human Resources Careers\n",
      "48. Humanities and Social Sciences Careers\n",
      "49. Illustration Careers\n",
      "50. Industrial Engineering Careers\n",
      "51. Information Systems Careers\n",
      "52. Interior Design Careers\n",
      "53. International Business Careers\n",
      "54. Journalism Careers\n",
      "55. Law Careers\n",
      "56. Legal Studies Careers\n",
      "57. Library Science Careers\n",
      "58. Logistics Careers\n",
      "59. Marketing Careers\n",
      "60. Ministry and Theology Careers\n",
      "61. Music Careers\n",
      "62. Network Security Careers\n",
      "63. Nursing Careers\n",
      "64. Nutrition Careers\n",
      "65. Organizational Psychology Careers\n",
      "66. Philosophy Careers\n",
      "67. Photography Careers\n",
      "68. Physical Therapy Careers\n",
      "69. Political Science Careers\n",
      "70. Project Management Careers\n",
      "71. Psychology Careers\n",
      "72. Public Health Careers\n",
      "73. Public Relations Careers\n",
      "74. Radiology Careers\n",
      "75. STEM Careers\n",
      "76. Science and Engineering Careers\n",
      "77. Social Science Careers\n",
      "78. Social Work Careers\n",
      "79. Sociology Careers\n",
      "80. Software Engineering Careers\n",
      "81. Special Education Careers\n",
      "82. Sports Management Careers\n",
      "83. Sports Medicine Careers\n",
      "84. Sustainability Careers\n",
      "85. Teaching Careers\n",
      "86. Technology Careers\n",
      "87. Web Development Careers\n",
      "88. Writing Careers\n"
     ]
    }
   ],
   "source": [
    "print(\"We are ready to guide you on the following careers : \")\n",
    "for index, careers_name in enumerate(bestcolleges_data.career_name.to_list()):\n",
    "    print(str(index + 1) + \". \" + careers_name)"
   ]
  },
  {
   "cell_type": "code",
   "execution_count": null,
   "metadata": {},
   "outputs": [],
   "source": [
    "print(\"We are ready to guide you on the following careers : \")\n",
    "for index, careers_name in enumerate(bestcolleges_data.career_name.to_list()):\n",
    "    print(str(index + 1) + \". \" + careers_name)"
   ]
  },
  {
   "cell_type": "code",
   "execution_count": 73,
   "metadata": {},
   "outputs": [
    {
     "name": "stdout",
     "output_type": "stream",
     "text": [
      "Here is some guidance on Writing Careers\n"
     ]
    }
   ],
   "source": [
    "# bestcolleges_data[bestcolleges_data.career_name == \"Writing Careers\"]\n",
    "career_name = \"Writing Careers\"\n",
    "bestcolleges_data.career_name.str.contains(\"Writing Careers\").any()\n",
    "search_result_row = bestcolleges_data[bestcolleges_data.career_name == career_name]\n",
    "print(\"Here is some guidance on \" + search_result_row['career_name'].iloc[0])"
   ]
  },
  {
   "cell_type": "code",
   "execution_count": 96,
   "metadata": {},
   "outputs": [],
   "source": [
    "def view_career_info_by_name(career_name):\n",
    "    if bestcolleges_data.career_name.str.contains(career_name).any():\n",
    "        search_result_row = bestcolleges_data[bestcolleges_data.career_name == career_name]\n",
    "        print(\"Here is some guidance on \" + search_result_row.career_name.iloc[0])\n",
    "        \n",
    "        if search_result_row.career_info is not np.nan:\n",
    "            print(\"----  Info ----\")\n",
    "            print(search_result_row.career_info.iloc[0])\n",
    "\n",
    "        if search_result_row.why_career is not np.nan:\n",
    "            print(\"----  Why \" + search_result_row.career_name + \" ----\")\n",
    "            print(search_result_row.why_career.iloc[0])\n",
    "        \n",
    "        if search_result_row.how_to_start.iloc[0] is not np.nan:\n",
    "            print(\n",
    "                \"----  How to start on \"\n",
    "                + search_result_row.career_name.iloc[0]\n",
    "                + \" ----\"\n",
    "            )\n",
    "            print(search_result_row.how_to_start.iloc[0])"
   ]
  },
  {
   "cell_type": "code",
   "execution_count": 95,
   "metadata": {},
   "outputs": [
    {
     "name": "stdout",
     "output_type": "stream",
     "text": [
      "Here is some guidance on Writing Careers\n",
      "----  Info ----\n",
      "Writing is one of the foundations for human communication. As such, writing is a valuable skill in most industries. Careers for writing majors vary by degree level, location, and personal interest.\n",
      "87    ----  Why Writing Careers ----\n",
      "Name: career_name, dtype: object\n",
      "Writers tell stories, communicate ideas, and offer information to many different types of audiences. Writing students gain insight into how to use the written word to better express themselves, describe their surroundings, and detail events and circumstances from historical and current perspectives. A degree in writing builds marketable skills applicable to careers across economic sectors. Within a writing curriculum, students can learn practices and techniques for specialized types of writing, including technical, creative, and business writing.\n"
     ]
    }
   ],
   "source": [
    "view_career_info_by_name(\"Writing Careers\")"
   ]
  },
  {
   "cell_type": "code",
   "execution_count": null,
   "metadata": {},
   "outputs": [],
   "source": []
  }
 ],
 "metadata": {
  "interpreter": {
   "hash": "b46a5fd9f96284042b6f3d7f106d3fe8c72d18b6ad8a1aa1b00cddde6b219f7b"
  },
  "kernelspec": {
   "display_name": "Python 3.8.11 64-bit ('dfp': conda)",
   "name": "python3"
  },
  "language_info": {
   "codemirror_mode": {
    "name": "ipython",
    "version": 3
   },
   "file_extension": ".py",
   "mimetype": "text/x-python",
   "name": "python",
   "nbconvert_exporter": "python",
   "pygments_lexer": "ipython3",
   "version": "3.8.11"
  },
  "orig_nbformat": 4
 },
 "nbformat": 4,
 "nbformat_minor": 2
}
