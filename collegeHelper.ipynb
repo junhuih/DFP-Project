{
 "cells": [
  {
   "cell_type": "code",
   "execution_count": 73,
   "id": "139dbd85",
   "metadata": {},
   "outputs": [],
   "source": [
    "from urllib.request import urlopen\n",
    "import json\n",
    "import tweepy\n",
    "import csv\n",
    "import pandas as pd\n",
    "import requests"
   ]
  },
  {
   "cell_type": "code",
   "execution_count": 74,
   "id": "19cd4f3e",
   "metadata": {},
   "outputs": [],
   "source": [
    "# FBI DATA api key\n",
    "API_KEY = \"YsQEzTwMdMPRymtS4Fp7XYFBQmT5A6kSe62h5laI\""
   ]
  },
  {
   "cell_type": "code",
   "execution_count": 75,
   "id": "5dce48cd",
   "metadata": {},
   "outputs": [],
   "source": [
    "# assult category\n",
    "all_categories_string = \"aggravated-assault,all-other-larceny,all-other-offenses,animal-cruelty,arson,assisting-or-promoting-prostitution,bad-checks,betting,bribery,burglary-breaking-and-entering,counterfeiting-forgery,credit-card-automated-teller-machine-fraud,destruction-damage-vandalism-of-property,driving-under-the-influence,drug-equipment-violations,drug-violations,drunkenness,embezzlement,extortion-blackmail,false-pretenses-swindle-confidence-game,fondling,gambling-equipment-violation,hacking-computer-invasion,human-trafficking-commerical-sex-acts,human-trafficking-commerical-involuntary-servitude,identity-theft,impersonation,incest,intimidation,justifiable-homicide,kidnapping-abduction,motor-vehicle-theft,murder-and-nonnegligent-manslaughter,negligent-manslaughter,operating-promoting-assiting-gambling,curfew-loitering-vagrancy-violations,peeping-tom,pocket-picking,pornography-obscence-material,prostitution,purchasing-prostitution,purse-snatching,rape,robbery,sexual-assult-with-an-object,sex-offenses-non-forcible,shoplifting,simple-assault,sodomy,sports-tampering,statutory-rape,stolen-property-offenses,theft-from-building,theft-from-coin-operated-machine-or-device,theft-from-motor-vehicle,theft-of-motor-vehicle-parts-or-accessories,theft-from-motor-vehicle,weapon-law-violation,welfare-fraud,wire-fraud,not-specified,liquor-law-violations,crime-against-person,crime-against-property,crime-against-society,assault-offenses,homicide-offenses,human-trafficking-offenses,sex-offenses,sex-offenses-non-forcible, fraud-offenses,larceny-theft-offenses, drugs-narcotic-offenses,gambling-offenses,prostitution-offenses,all-offenses\"\n",
    "all_categories = (all_categories_string.split(\",\"))\n",
    "\n",
    "# all states\n",
    "all_states = ['AL','AK','AZ','AR','CA','CO','CT','DE','FL','GA','HI','ID','IL','IN','IA','KS','KY','LA','ME','MD','MA','MI','MN','MS','MO','MT','NE','NV','NH','NJ','NM','NY','NC','ND','OH','OK','OR','PA','RI','SC','SD','TN','TX','UT','VT','VA','WA','WV','WI','WY']"
   ]
  },
  {
   "cell_type": "code",
   "execution_count": 76,
   "id": "7d12b260",
   "metadata": {},
   "outputs": [],
   "source": [
    "#### tweepy credentials\n",
    "consumer_key = 'GWk9J0SjHWmI3wWquYLg5dHnZ'\n",
    "consumer_secret = 'VsMLEBF0vhoxkpmoEqHV5sYAkadKks6Jnl0RnvHVYznpalLhJX'\n",
    "access_token = '899819263174868993-Y1rnLYIpx9MuywKphgo9aQtAlMk2NPf'\n",
    "access_token_secret = 'hoFMcUJK1mLqcGfrhcNdyfQSgktQn5MkKJ1GDGENWg7dF'\n",
    "\n",
    "bearer_token = \"AAAAAAAAAAAAAAAAAAAAALw%2FTwEAAAAA5mGzkkQRzM5lUExaBkZDfYbS3Y0%3DwqRFpCaqzANZn3kiEwO85WoxjE5PAsQ54tSokCZFvPZy0zI2JT\""
   ]
  },
  {
   "cell_type": "code",
   "execution_count": 77,
   "id": "0cfd808e",
   "metadata": {},
   "outputs": [],
   "source": [
    "def getCrimeData(assult_category, state):\n",
    "    state_data_link = \"https://api.usa.gov/crime/fbi/sapi/api/data/nibrs/\" + all_categories[assult_category] + \"/victim/states/\" + all_states[state] + \"/count?API_KEY=\"+ API_KEY\n",
    "    response = urlopen(state_data_link)\n",
    "    data_json = json.loads(response.read())\n",
    "    print(data_json['results'])\n",
    "    "
   ]
  },
  {
   "cell_type": "code",
   "execution_count": 78,
   "id": "7537b3d7",
   "metadata": {},
   "outputs": [],
   "source": [
    "def getTwitterComments(school_name):\n",
    "    url = \"https://api.twitter.com/2/tweets/search/recent?query=\"\n",
    "    url = url + school_name +'&tweet.fields=created_at'\n",
    "\n",
    "    headers = {\"Authorization\": \"Bearer {}\".format(bearer_token)}\n",
    "    response = requests.request(\"GET\", url, headers=headers)\n",
    "    res_json = response.json()\n",
    "    print(res_json['data'][0]['text'])\n",
    "    "
   ]
  },
  {
   "cell_type": "code",
   "execution_count": 79,
   "id": "0a56030f",
   "metadata": {},
   "outputs": [
    {
     "name": "stdout",
     "output_type": "stream",
     "text": [
      "[{'count': 21909, 'data_year': 1991}, {'count': 17637, 'data_year': 1992}, {'count': 24, 'data_year': 2010}, {'count': 17, 'data_year': 2011}, {'count': 25, 'data_year': 2012}, {'count': 29, 'data_year': 2013}, {'count': 32, 'data_year': 2014}, {'count': 52, 'data_year': 2015}, {'count': 44, 'data_year': 2016}, {'count': 30, 'data_year': 2017}, {'count': 19, 'data_year': 2018}, {'count': 68, 'data_year': 2019}, {'count': 617, 'data_year': 2020}]\n",
      "Last Sunday, October 3rd, we sponsored the first Azure Family Concert in the Pittsburgh Area! \n",
      "We want to thank everyone who came out to enjoy the show! Eric DeFade and his Jazz Quartet performed, accompanied by some interns from Carnegie Mellon University. https://t.co/gktbZE6Gw7\n"
     ]
    }
   ],
   "source": [
    "getCrimeData(0, 0)\n",
    "getTwitterComments(\"Carnegie Mellon University\")"
   ]
  },
  {
   "cell_type": "code",
   "execution_count": null,
   "id": "c9f1332e",
   "metadata": {},
   "outputs": [],
   "source": []
  },
  {
   "cell_type": "code",
   "execution_count": null,
   "id": "a25a5e3a",
   "metadata": {},
   "outputs": [],
   "source": []
  },
  {
   "cell_type": "code",
   "execution_count": null,
   "id": "81528590",
   "metadata": {},
   "outputs": [],
   "source": []
  },
  {
   "cell_type": "code",
   "execution_count": 127,
   "id": "65e5b2c1",
   "metadata": {},
   "outputs": [],
   "source": [
    "def collegeHelper():\n",
    "    print('Welcome to college helper!')\n",
    "    print('Please select the following prompt:')\n",
    "    print('1. See recommended college based on my preferences')\n",
    "    print('2. View colleges through filters')\n",
    "    print('3. Help')\n",
    "    print('4. Exit')\n",
    "\n",
    "    x = getInput(4)\n",
    "            \n",
    "    if (x == 1):\n",
    "        getRecommendation()\n",
    "    elif (x == 2):\n",
    "        viewThroughFilter()\n",
    "    elif (x == 3):\n",
    "        helpMessage()\n",
    "    else:\n",
    "        exitMessage(x)\n",
    "\n",
    "def getInput(maxInput):\n",
    "    while (True):\n",
    "        x = input()\n",
    "        try:\n",
    "            intX = int(x)\n",
    "            if (0 < intX and intX <= maxInput):\n",
    "                return intX\n",
    "            else:\n",
    "                errorMessage(x)\n",
    "        except:\n",
    "            errorMessage(x)\n",
    "    \n",
    "    \n",
    "def getRecommendation():\n",
    "    print(\"Recommendation!\")\n",
    "    \n",
    "def viewThroughFilter():\n",
    "    print('==========================')\n",
    "    print('Viewing college by filters:')\n",
    "    print('1. View colleges with best rankings')\n",
    "    print('2. View colleges by location')\n",
    "    print('3. View colleges by tuition')\n",
    "    print('4. View colleges by test scores')\n",
    "    print('5. Go back to menu')\n",
    "    \n",
    "    x = getInput(5)\n",
    "            \n",
    "    if (x == 1):\n",
    "        getRecommendation()\n",
    "    elif (x == 2):\n",
    "        viewThroughFilter()\n",
    "    elif (x == 3):\n",
    "        helpMessage()\n",
    "    elif (x == 4):\n",
    "        helpMessage()\n",
    "    else:\n",
    "        collegeHelper()\n",
    "\n",
    "def helpMessage():\n",
    "    print('==========================')\n",
    "    print(\"College helper is good to help you find colleges!\")\n",
    "    print('==========================')\n",
    "    collegeHelper()\n",
    "    \n",
    "def errorMessage(x):\n",
    "    print('==========================')\n",
    "    print(\"You've entered \" + x + \", which is an invalid input.\")\n",
    "    print(\"Please enter again!\")\n",
    "    return\n",
    "    \n",
    "def exitMessage(x):\n",
    "    print('==========================')\n",
    "    print(\"Thank you for using college helper!\")\n",
    "    return"
   ]
  },
  {
   "cell_type": "code",
   "execution_count": null,
   "id": "c96bc935",
   "metadata": {},
   "outputs": [
    {
     "name": "stdout",
     "output_type": "stream",
     "text": [
      "Welcome to college helper!\n",
      "Please select the following prompt:\n",
      "1. See recommended college based on my preferences\n",
      "2. View colleges through filters\n",
      "3. Help\n",
      "4. Exit\n",
      "3\n",
      "==========================\n",
      "College helper is good to help you find colleges!\n",
      "==========================\n",
      "Welcome to college helper!\n",
      "Please select the following prompt:\n",
      "1. See recommended college based on my preferences\n",
      "2. View colleges through filters\n",
      "3. Help\n",
      "4. Exit\n"
     ]
    }
   ],
   "source": [
    "collegeHelper()"
   ]
  },
  {
   "cell_type": "code",
   "execution_count": 104,
   "id": "49cdce49",
   "metadata": {},
   "outputs": [
    {
     "ename": "ValueError",
     "evalue": "invalid literal for int() with base 10: 'asd'",
     "output_type": "error",
     "traceback": [
      "\u001b[1;31m---------------------------------------------------------------------------\u001b[0m",
      "\u001b[1;31mValueError\u001b[0m                                Traceback (most recent call last)",
      "\u001b[1;32m<ipython-input-104-6c4dbf76194d>\u001b[0m in \u001b[0;36m<module>\u001b[1;34m\u001b[0m\n\u001b[1;32m----> 1\u001b[1;33m \u001b[0mint\u001b[0m\u001b[1;33m(\u001b[0m\u001b[1;34m\"asd\"\u001b[0m\u001b[1;33m)\u001b[0m\u001b[1;33m\u001b[0m\u001b[1;33m\u001b[0m\u001b[0m\n\u001b[0m",
      "\u001b[1;31mValueError\u001b[0m: invalid literal for int() with base 10: 'asd'"
     ]
    }
   ],
   "source": []
  },
  {
   "cell_type": "code",
   "execution_count": null,
   "id": "54369baf",
   "metadata": {},
   "outputs": [],
   "source": []
  }
 ],
 "metadata": {
  "kernelspec": {
   "display_name": "Python 3",
   "language": "python",
   "name": "python3"
  },
  "language_info": {
   "codemirror_mode": {
    "name": "ipython",
    "version": 3
   },
   "file_extension": ".py",
   "mimetype": "text/x-python",
   "name": "python",
   "nbconvert_exporter": "python",
   "pygments_lexer": "ipython3",
   "version": "3.8.8"
  }
 },
 "nbformat": 4,
 "nbformat_minor": 5
}
