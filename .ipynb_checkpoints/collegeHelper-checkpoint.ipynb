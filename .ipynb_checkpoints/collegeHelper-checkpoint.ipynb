{
 "cells": [
  {
   "cell_type": "code",
   "execution_count": 127,
   "id": "65e5b2c1",
   "metadata": {},
   "outputs": [],
   "source": [
    "def collegeHelper():\n",
    "    print('Welcome to college helper!')\n",
    "    print('Please select the following prompt:')\n",
    "    print('1. See recommended college based on my preferences')\n",
    "    print('2. View colleges through filters')\n",
    "    print('3. Help')\n",
    "    print('4. Exit')\n",
    "\n",
    "    x = getInput(4)\n",
    "            \n",
    "    if (x == 1):\n",
    "        getRecommendation()\n",
    "    elif (x == 2):\n",
    "        viewThroughFilter()\n",
    "    elif (x == 3):\n",
    "        helpMessage()\n",
    "    else:\n",
    "        exitMessage(x)\n",
    "\n",
    "def getInput(maxInput):\n",
    "    while (True):\n",
    "        x = input()\n",
    "        try:\n",
    "            intX = int(x)\n",
    "            if (0 < intX and intX <= maxInput):\n",
    "                return intX\n",
    "            else:\n",
    "                errorMessage(x)\n",
    "        except:\n",
    "            errorMessage(x)\n",
    "    \n",
    "    \n",
    "def getRecommendation():\n",
    "    print(\"Recommendation!\")\n",
    "    \n",
    "def viewThroughFilter():\n",
    "    print('==========================')\n",
    "    print('Viewing college by filters:')\n",
    "    print('1. View colleges with best rankings')\n",
    "    print('2. View colleges by location')\n",
    "    print('3. View colleges by tuition')\n",
    "    print('4. View colleges by returns')\n",
    "    print('5. View colleges by test scores')\n",
    "    print('6. Go back to menu')\n",
    "    \n",
    "    x = getInput(6)\n",
    "            \n",
    "    if (x == 1):\n",
    "        helpMessage()\n",
    "    elif (x == 2):\n",
    "        helpMessage()\n",
    "    elif (x == 3):\n",
    "        helpMessage()\n",
    "    elif (x == 4):\n",
    "        helpMessage()\n",
    "    elif (x == 5):\n",
    "        helpMessage()\n",
    "    else:\n",
    "        collegeHelper()\n",
    "\n",
    "def helpMessage():\n",
    "    print('==========================')\n",
    "    print(\"College helper is good to help you find colleges!\")\n",
    "    print('==========================')\n",
    "    collegeHelper()\n",
    "    \n",
    "def errorMessage(x):\n",
    "    print('==========================')\n",
    "    print(\"You've entered \" + x + \", which is an invalid input.\")\n",
    "    print(\"Please enter again!\")\n",
    "    return\n",
    "    \n",
    "def exitMessage(x):\n",
    "    print('==========================')\n",
    "    print(\"Thank you for using college helper!\")\n",
    "    return"
   ]
  },
  {
   "cell_type": "code",
   "execution_count": null,
   "id": "c96bc935",
   "metadata": {
    "scrolled": true
   },
   "outputs": [
    {
     "name": "stdout",
     "output_type": "stream",
     "text": [
      "Welcome to college helper!\n",
      "Please select the following prompt:\n",
      "1. See recommended college based on my preferences\n",
      "2. View colleges through filters\n",
      "3. Help\n",
      "4. Exit\n",
      "3\n",
      "==========================\n",
      "College helper is good to help you find colleges!\n",
      "==========================\n",
      "Welcome to college helper!\n",
      "Please select the following prompt:\n",
      "1. See recommended college based on my preferences\n",
      "2. View colleges through filters\n",
      "3. Help\n",
      "4. Exit\n"
     ]
    }
   ],
   "source": [
    "collegeHelper()"
   ]
  }
 ],
 "metadata": {
  "kernelspec": {
   "display_name": "Python 3",
   "language": "python",
   "name": "python3"
  },
  "language_info": {
   "codemirror_mode": {
    "name": "ipython",
    "version": 3
   },
   "file_extension": ".py",
   "mimetype": "text/x-python",
   "name": "python",
   "nbconvert_exporter": "python",
   "pygments_lexer": "ipython3",
   "version": "3.8.8"
  }
 },
 "nbformat": 4,
 "nbformat_minor": 5
}
